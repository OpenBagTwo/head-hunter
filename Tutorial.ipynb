{
 "cells": [
  {
   "cell_type": "markdown",
   "id": "aa4d9f94-5d9a-42de-b15a-91440c32b83c",
   "metadata": {},
   "source": [
    "# Generating a Head Hunter Pack"
   ]
  },
  {
   "cell_type": "markdown",
   "id": "84caf11f-469d-426d-8a5a-f90aa689b4a5",
   "metadata": {},
   "source": [
    "### Setup\n",
    "\n",
    "Start by [cloning or downloading this repository](https://docs.github.com/en/repositories/creating-and-managing-repositories/cloning-a-repository) to your computer.\n",
    "You'll also need to install Python (3.8 or newer) if you haven't already.\n",
    "\n",
    "Then had over to the [VanillaTweaks website](https://vanillatweaks.net/picker/datapacks/) and download the \"Wandering Trades (Hermit Edition)\" and (if you want) the \"More Mob Heads\" one as well.\n",
    "Extract the combined zip file (\"VanillaTweaks_dXXXXXX_UNZIP_ME.zip\") into the \"packs\" folder of this repo. You do not need to unzip the individual data packs.\n",
    "\n",
    "Once all the files are downloaded and in place, open a terminal, navigate to the root of this repository, and start a Python, IPython or Jupyter session."
   ]
  },
  {
   "cell_type": "markdown",
   "id": "e2d14f09-bc10-4d75-81b8-15af64f7865a",
   "metadata": {},
   "source": [
    "## Bootstrap"
   ]
  },
  {
   "cell_type": "markdown",
   "id": "ad0d8332-c096-493f-943a-5565e11e2aee",
   "metadata": {},
   "source": [
    "You're going to want to first start off with all of the files from the original version of the data pack. You can do that using the `extract` module."
   ]
  },
  {
   "cell_type": "code",
   "execution_count": 1,
   "id": "65941936-e43f-4c2f-b830-dba6226a300d",
   "metadata": {},
   "outputs": [],
   "source": [
    "from head_hunter import extract"
   ]
  },
  {
   "cell_type": "code",
   "execution_count": 2,
   "id": "7996c6b4-856b-4d20-ba79-01385ff748e0",
   "metadata": {},
   "outputs": [],
   "source": [
    "extract.copy_data_from_existing_pack()"
   ]
  },
  {
   "cell_type": "markdown",
   "id": "7a0ec2f1-a483-41b9-a4a1-87f9041f90dc",
   "metadata": {},
   "source": [
    "## Creating a Head List"
   ]
  },
  {
   "cell_type": "markdown",
   "id": "59c535de-2eee-446f-88af-dde6d445b738",
   "metadata": {},
   "source": [
    "Now it's time to create your list of heads. There are three methods for doing this, all of which are in the `parse` module:"
   ]
  },
  {
   "cell_type": "code",
   "execution_count": 3,
   "id": "73f94b9e-4e14-4053-b9b4-5e046ba8bedc",
   "metadata": {},
   "outputs": [],
   "source": [
    "from head_hunter import parse"
   ]
  },
  {
   "cell_type": "markdown",
   "id": "7233ac2f-d4ab-431e-bbf4-5e08b8f7c42b",
   "metadata": {},
   "source": [
    "### Hermit Heads\n",
    "\n",
    "We'll start by grabbing the Hermit heads."
   ]
  },
  {
   "cell_type": "code",
   "execution_count": 4,
   "id": "ae4bbf0b-4377-4703-a142-d5fe32f50ada",
   "metadata": {},
   "outputs": [],
   "source": [
    "hermit_heads, block_trades = parse.parse_wandering_trades()"
   ]
  },
  {
   "cell_type": "markdown",
   "id": "2271e998-6363-4053-be96-2893827c2f4a",
   "metadata": {},
   "source": [
    "(the block trades we'll hold onto for later)"
   ]
  },
  {
   "cell_type": "markdown",
   "id": "e7320853-ba23-4a5b-884f-18ffd6a15f23",
   "metadata": {},
   "source": [
    "Let's look at whose heads we grabbed."
   ]
  },
  {
   "cell_type": "code",
   "execution_count": 5,
   "id": "ef28a1f1-aad0-4b9c-8cb6-04a88778195d",
   "metadata": {},
   "outputs": [
    {
     "name": "stdout",
     "output_type": "stream",
     "text": [
      "0 HeadSpec(PythonGB)\n",
      "1 HeadSpec(Xisuma)\n",
      "2 HeadSpec(Docm77)\n",
      "3 HeadSpec(Jessassin)\n",
      "4 HeadSpec(xBCrafted)\n",
      "5 HeadSpec(Etho)\n",
      "6 HeadSpec(Mumbo)\n",
      "7 HeadSpec(iJevin)\n",
      "8 HeadSpec(impulseSV)\n",
      "9 HeadSpec(Renthedog)\n",
      "10 HeadSpec(Tinfoilchef)\n",
      "11 HeadSpec(Biffa2001)\n",
      "12 HeadSpec(Stressmonster101)\n",
      "13 HeadSpec(GoodTimesWithScar)\n",
      "14 HeadSpec(Zedaph)\n",
      "15 HeadSpec(joehillssays)\n",
      "16 HeadSpec(cubfan135)\n",
      "17 HeadSpec(Welsknight)\n",
      "18 HeadSpec(Keralis)\n",
      "19 HeadSpec(falsesymmetry)\n",
      "20 HeadSpec(hypnotizd)\n",
      "21 HeadSpec(VintageBeef)\n",
      "22 HeadSpec(BdoubleO100)\n",
      "23 HeadSpec(Tango)\n",
      "24 HeadSpec(Grian)\n",
      "25 HeadSpec(iskall85)\n",
      "26 HeadSpec(ZombieCleo)\n",
      "27 HeadSpec(GeminiTay)\n",
      "28 HeadSpec(PearlescentMoon)\n"
     ]
    }
   ],
   "source": [
    "for idx, head in enumerate(hermit_heads):\n",
    "    print(idx, repr(head))"
   ]
  },
  {
   "cell_type": "markdown",
   "id": "a90ebf3d-30b7-4dfe-9ab8-f3746792eeb1",
   "metadata": {},
   "source": [
    "Maybe I don't want every Hermit. I can create a new list by index:"
   ]
  },
  {
   "cell_type": "code",
   "execution_count": 6,
   "id": "5e51b80f-96b3-4a47-854f-a709b92b35a2",
   "metadata": {},
   "outputs": [
    {
     "name": "stdout",
     "output_type": "stream",
     "text": [
      "0 HeadSpec(Xisuma)\n",
      "1 HeadSpec(Docm77)\n",
      "2 HeadSpec(Jessassin)\n",
      "3 HeadSpec(Etho)\n",
      "4 HeadSpec(impulseSV)\n",
      "5 HeadSpec(GoodTimesWithScar)\n",
      "6 HeadSpec(VintageBeef)\n"
     ]
    }
   ],
   "source": [
    "# this is a demo and not a reflection of my feelings about any hermit\n",
    "my_hermits = [hermit_heads[i] for i in (1, 2, 3, 5, 8, 13, 21)]\n",
    "\n",
    "for idx, head in enumerate(my_hermits):\n",
    "    print(idx, repr(head))"
   ]
  },
  {
   "cell_type": "markdown",
   "id": "e5f18858-867b-4229-8326-dae0acd60faa",
   "metadata": {},
   "source": [
    "### Mob Heads\n",
    "\n",
    "I don't know about you, but there are some mobs I am just not willing to kill, even for an amazing decorative head. So instead, why not have the Wandering Trader ~~do the dirtywork~~ sell them to us?"
   ]
  },
  {
   "cell_type": "code",
   "execution_count": 7,
   "id": "8c4afc0b-75b4-4623-9f42-d32facbc78c5",
   "metadata": {},
   "outputs": [
    {
     "name": "stdout",
     "output_type": "stream",
     "text": [
      "0 HeadSpec(Bee)\n",
      "1 HeadSpec(Pollinated Bee)\n",
      "2 HeadSpec(Angry Bee)\n",
      "3 HeadSpec(Angry Pollinated Bee)\n",
      "4 HeadSpec(Tabby Cat)\n",
      "5 HeadSpec(Tuxedo Cat)\n",
      "6 HeadSpec(Ginger Cat)\n",
      "7 HeadSpec(Siamese Cat)\n",
      "8 HeadSpec(British Shorthair Cat)\n",
      "9 HeadSpec(Calico Cat)\n",
      "10 HeadSpec(Persian Cat)\n",
      "11 HeadSpec(Ragdoll Cat)\n",
      "12 HeadSpec(White Cat)\n",
      "13 HeadSpec(Jellie Cat)\n",
      "14 HeadSpec(Black Cat)\n",
      "15 HeadSpec(Fox)\n",
      "16 HeadSpec(Snow Fox)\n",
      "17 HeadSpec(Aggressive Panda)\n",
      "18 HeadSpec(Lazy Panda)\n",
      "19 HeadSpec(Playful Panda)\n",
      "20 HeadSpec(Worried Panda)\n",
      "21 HeadSpec(Brown Panda)\n",
      "22 HeadSpec(Weak Panda)\n",
      "23 HeadSpec(Panda)\n",
      "24 HeadSpec(Sniffer)\n",
      "25 HeadSpec(Silverfish)\n"
     ]
    }
   ],
   "source": [
    "mob_heads = []\n",
    "for mob in (\"bee\", \"cat\", \"fox\", \"panda\", \"sniffer\", \"silverfish\"):\n",
    "    mob_heads.extend(parse.parse_mob_heads(mob))\n",
    "\n",
    "for idx, head in enumerate(mob_heads):\n",
    "    print(idx, repr(head))"
   ]
  },
  {
   "cell_type": "markdown",
   "id": "9059126e-fa88-4aa5-b61f-f6d88e40798e",
   "metadata": {},
   "source": [
    "Notice that this will grab _all_ mob head variants for each mob you specify, so feel free to prune that list if you don't want every sheep variant, for example."
   ]
  },
  {
   "cell_type": "code",
   "execution_count": 8,
   "id": "d41ed239-4cde-4903-8b23-3f72d08b8b57",
   "metadata": {},
   "outputs": [
    {
     "name": "stdout",
     "output_type": "stream",
     "text": [
      "0 HeadSpec(Bee)\n",
      "1 HeadSpec(Tabby Cat)\n",
      "2 HeadSpec(Jellie Cat)\n",
      "3 HeadSpec(Black Cat)\n",
      "4 HeadSpec(Fox)\n",
      "5 HeadSpec(Snow Fox)\n",
      "6 HeadSpec(Playful Panda)\n",
      "7 HeadSpec(Sniffer)\n",
      "8 HeadSpec(Silverfish)\n"
     ]
    }
   ],
   "source": [
    "my_mob_heads = [mob_heads[i] for i in (0, 4, 13, 14, 15, 16, 19, 24, 25)]\n",
    "for idx, head in enumerate(my_mob_heads):\n",
    "    print(idx, repr(head))"
   ]
  },
  {
   "cell_type": "markdown",
   "id": "b82b4bc5-b94c-4b0f-84a6-77666f4e215a",
   "metadata": {},
   "source": [
    "### Adding Your Own Player Heads\n",
    "\n",
    "Now let's say there are other players whose heads you want to add. There are two ways\n",
    "you can add their heads to the list:\n",
    "- by username, if you just want their latest head\n",
    "- by parsing a `/give` command you might get from a site like [namemc.com](https://namemc.com/profile/OpenBagTwo) (which is the way you can get a particular / previous skin)."
   ]
  },
  {
   "cell_type": "code",
   "execution_count": 9,
   "id": "b267a9ab-9a17-432f-ba75-06b65ac32e22",
   "metadata": {},
   "outputs": [],
   "source": [
    "from head_hunter import HeadSpec"
   ]
  },
  {
   "cell_type": "code",
   "execution_count": 10,
   "id": "3a81ec52-b48f-441a-bd85-fa615f6e3b5c",
   "metadata": {},
   "outputs": [],
   "source": [
    "my_player_heads = [\n",
    "    HeadSpec.from_username(\"C418\"),\n",
    "    HeadSpec.from_username(\"gnembon\"),\n",
    "    HeadSpec.from_username(\"kingbdogz\"),\n",
    "    HeadSpec.from_username(\"ilmango\"),\n",
    "    parse.parse_give_command(\n",
    "        \"\"\"\n",
    "/give @p minecraft:player_head{SkullOwner:{Id:[I;2038333874,-420717031,-1789577846,1638088555],Properties:{textures:[{Value:\"e3RleHR1cmVzOntTS0lOOnt1cmw6Imh0dHA6Ly90ZXh0dXJlcy5taW5lY3JhZnQubmV0L3RleHR1cmUvYjdiZTgwMDA3YTRlNjEyYzE3MjJkZGI0NmU1Y2RmMGNmMjhiYmRhMmJhNDI2ZDBhMGY0NDlmYjE1Yjg0ZmJhYyJ9fX0=\"}]}},display:{Lore:[\"{\\\"text\\\":\\\"https://namemc.com/skin/11eb3ffbb1fc4889\\\"}\"]}}\"\n",
    "\"\"\",\n",
    "        name=\"OpenBagTwo\",\n",
    "    ),\n",
    "    parse.parse_give_command(\n",
    "        \"\"\"\n",
    "/give @p minecraft:player_head{SkullOwner:{Id:[I;-804596631,501570713,-1139498042,-811191729],Properties:{textures:[{Value:\"e3RleHR1cmVzOntTS0lOOnt1cmw6Imh0dHA6Ly90ZXh0dXJlcy5taW5lY3JhZnQubmV0L3RleHR1cmUvY2Q3MjFhOTljN2Q5ZDQ5NWM4YWE1MzQ4ZjcyYTJhNTE3MmUyNTU4OThhNWI0NjZjODhjYzU2ZmI2M2ViNDQ2ZCJ9fX0=\"}]}},display:{Lore:[\"{\\\"text\\\":\\\"https://namemc.com/skin/da780e67190a355e\\\"}\"]}}\"\n",
    "\"\"\",\n",
    "        \"§r§6Phenix\",\n",
    "    ),\n",
    "]"
   ]
  },
  {
   "cell_type": "markdown",
   "id": "56133fa8-4c56-4e72-ada6-8f77efb5f57f",
   "metadata": {},
   "source": [
    "## Write Your Trade List\n",
    "\n",
    "Now that you've got your list of player heads, you're set to write them to your data pack. The methods to do this are in the `write` module."
   ]
  },
  {
   "cell_type": "code",
   "execution_count": 11,
   "id": "c27838cd-77fc-4b17-aaaa-a398d86ed888",
   "metadata": {},
   "outputs": [],
   "source": [
    "from head_hunter import write"
   ]
  },
  {
   "cell_type": "markdown",
   "id": "7a6852bd-82cb-42ba-b5f5-c6a3d5508be3",
   "metadata": {},
   "source": [
    "First we'll want to write the trade list itself"
   ]
  },
  {
   "cell_type": "code",
   "execution_count": 12,
   "id": "cf0d8248-f73d-4dd8-83ab-094e8b850021",
   "metadata": {},
   "outputs": [
    {
     "data": {
      "text/plain": [
       "(2, 23)"
      ]
     },
     "execution_count": 12,
     "metadata": {},
     "output_type": "execute_result"
    }
   ],
   "source": [
    "write.write_head_trades(my_hermits + my_mob_heads + my_player_heads)"
   ]
  },
  {
   "cell_type": "markdown",
   "id": "db0bda08-5da1-4df4-9df4-4f81ef54df99",
   "metadata": {},
   "source": [
    "and then use the numbers we got back from that function to update the trade counts."
   ]
  },
  {
   "cell_type": "code",
   "execution_count": 13,
   "id": "20353740-c4e1-4ade-9c56-550bfbe2a426",
   "metadata": {},
   "outputs": [],
   "source": [
    "write.update_trade_count(*_, trade_provider=\"head\")  # a little sugar"
   ]
  },
  {
   "cell_type": "markdown",
   "id": "fee4a56a-e950-4f44-8f24-cafbd26c9c32",
   "metadata": {},
   "source": [
    "If you want to make sure your trade list worked correctly, you can try reading it back in:"
   ]
  },
  {
   "cell_type": "code",
   "execution_count": 14,
   "id": "a2225a8e-8446-4c8b-a7b8-01bf6918da23",
   "metadata": {},
   "outputs": [
    {
     "name": "stdout",
     "output_type": "stream",
     "text": [
      "0 HeadSpec(Xisuma)\n",
      "1 HeadSpec(Docm77)\n",
      "2 HeadSpec(Jessassin)\n",
      "3 HeadSpec(Etho)\n",
      "4 HeadSpec(impulseSV)\n",
      "5 HeadSpec(GoodTimesWithScar)\n",
      "6 HeadSpec(VintageBeef)\n",
      "7 HeadSpec(Bee)\n",
      "8 HeadSpec(Tabby Cat)\n",
      "9 HeadSpec(Jellie Cat)\n",
      "10 HeadSpec(Black Cat)\n",
      "11 HeadSpec(Fox)\n",
      "12 HeadSpec(Snow Fox)\n",
      "13 HeadSpec(Playful Panda)\n",
      "14 HeadSpec(Sniffer)\n",
      "15 HeadSpec(Silverfish)\n",
      "16 HeadSpec(C418)\n",
      "17 HeadSpec(gnembon)\n",
      "18 HeadSpec(kingbdogz)\n",
      "19 HeadSpec(ilmango)\n",
      "20 HeadSpec(OpenBagTwo)\n",
      "21 HeadSpec(Phenix)\n"
     ]
    }
   ],
   "source": [
    "for idx, head in enumerate(\n",
    "    parse.parse_wandering_trades(\n",
    "        \"Head Hunter/data/wandering_trades/functions/add_trade.mcfunction\"\n",
    "    )[0]\n",
    "):\n",
    "    print(idx, repr(head))"
   ]
  },
  {
   "cell_type": "markdown",
   "id": "8bd1a892-1960-4855-8e98-bdd82c3c2e7c",
   "metadata": {},
   "source": [
    "Now remember those block trades we extracted earlier? Let's write them to file now too."
   ]
  },
  {
   "cell_type": "code",
   "execution_count": 15,
   "id": "5d413cef-8779-4923-8e9e-562fbde3f75f",
   "metadata": {},
   "outputs": [
    {
     "name": "stdout",
     "output_type": "stream",
     "text": [
      "(1002, 1191)\n"
     ]
    }
   ],
   "source": [
    "bounds = write.write_block_trades(block_trades)\n",
    "print(bounds)\n",
    "write.update_trade_count(*bounds, trade_provider=\"block\")"
   ]
  },
  {
   "cell_type": "markdown",
   "id": "baebb6fc-7013-4e2a-9282-935d2ee3ca54",
   "metadata": {},
   "source": [
    "## Finishing Up"
   ]
  },
  {
   "cell_type": "markdown",
   "id": "26b82033-e84e-4fb8-b7f9-98796fd22b53",
   "metadata": {},
   "source": [
    "Now all that remains is updating some metadata files:"
   ]
  },
  {
   "cell_type": "code",
   "execution_count": 16,
   "id": "505e2e6e-3a02-4272-b1d6-ce5f61ae217a",
   "metadata": {},
   "outputs": [],
   "source": [
    "write.write_meta_files()"
   ]
  },
  {
   "cell_type": "markdown",
   "id": "88a68551-46b9-4f1c-98ae-009e999b2278",
   "metadata": {},
   "source": [
    "And then compressing everything into a nice compact ZIP.\n",
    "\n",
    "A utility for which can be found in the `release` module."
   ]
  },
  {
   "cell_type": "code",
   "execution_count": 17,
   "id": "17cc4539-52f2-4a77-a603-18497ae55bbb",
   "metadata": {},
   "outputs": [],
   "source": [
    "from head_hunter import release"
   ]
  },
  {
   "cell_type": "code",
   "execution_count": 18,
   "id": "2a29e33f-34c0-4dcf-a774-0b0b27961656",
   "metadata": {},
   "outputs": [],
   "source": [
    "release.make_zip()"
   ]
  },
  {
   "cell_type": "markdown",
   "id": "d6ff67c3-3427-4249-995f-514497a52c67",
   "metadata": {},
   "source": [
    "And there you go! Take your new \"Head Hunter.zip\" file, plop it in your world's datapacks folder and listen for that familiar _\"wwap wwap?\"_"
   ]
  }
 ],
 "metadata": {
  "kernelspec": {
   "display_name": "Python 3 (ipykernel)",
   "language": "python",
   "name": "python3"
  },
  "language_info": {
   "codemirror_mode": {
    "name": "ipython",
    "version": 3
   },
   "file_extension": ".py",
   "mimetype": "text/x-python",
   "name": "python",
   "nbconvert_exporter": "python",
   "pygments_lexer": "ipython3",
   "version": "3.8.0"
  }
 },
 "nbformat": 4,
 "nbformat_minor": 5
}
